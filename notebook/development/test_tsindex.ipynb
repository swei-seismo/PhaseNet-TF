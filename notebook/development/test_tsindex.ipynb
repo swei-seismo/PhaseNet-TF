{
 "cells": [
  {
   "cell_type": "code",
   "execution_count": 2,
   "metadata": {},
   "outputs": [],
   "source": [
    "from obspy.clients.filesystem.tsindex import Client\n",
    "from obspy import UTCDateTime"
   ]
  },
  {
   "cell_type": "code",
   "execution_count": 3,
   "metadata": {},
   "outputs": [],
   "source": [
    "client = Client(database=\"/mnt/home/xiziyi/Packages_Research/PhaseNet-TF/batch_inference/dataset_continious/tongaml_continious_response_removed.sqlite\")"
   ]
  },
  {
   "attachments": {},
   "cell_type": "markdown",
   "metadata": {},
   "source": [
    "## Generate long inference test case\n",
    "\n",
    "I find using long inference segment seems to downgrade the performance, this test genertes some test cases."
   ]
  },
  {
   "cell_type": "code",
   "execution_count": 5,
   "metadata": {},
   "outputs": [],
   "source": [
    "start=UTCDateTime(\"2010-02-07T23:24:16.949590\")-10\n",
    "end=UTCDateTime(\"2010-02-07T23:24:16.949590\")+110\n",
    "st=client.get_waveforms(\"*\", \"A01\", \"*\", \"*\", start, end)\n",
    "st.write(\"/mnt/home/xiziyi/Packages_Research/PhaseNet-TF/workplace/1short.mseed\", format=\"MSEED\")"
   ]
  },
  {
   "cell_type": "code",
   "execution_count": 6,
   "metadata": {},
   "outputs": [],
   "source": [
    "start=UTCDateTime(\"2010-02-07T23\")\n",
    "end=UTCDateTime(\"2010-02-08T00\")\n",
    "st=client.get_waveforms(\"*\", \"A01\", \"*\", \"*\", start, end)\n",
    "st.write(\"/mnt/home/xiziyi/Packages_Research/PhaseNet-TF/workplace/1long.mseed\", format=\"MSEED\")"
   ]
  },
  {
   "cell_type": "code",
   "execution_count": 8,
   "metadata": {},
   "outputs": [],
   "source": [
    "start=UTCDateTime(\"2010-10-10T05:49:46.027200\")-10\n",
    "end=UTCDateTime(\"2010-10-10T05:49:46.027200\")+110\n",
    "st=client.get_waveforms(\"*\", \"TNGA\", \"*\", \"*\", start, end)\n",
    "st.write(\"/mnt/home/xiziyi/Packages_Research/PhaseNet-TF/workplace/2short.mseed\", format=\"MSEED\")\n",
    "\n",
    "start=UTCDateTime(\"2010-10-10T05\")\n",
    "end=UTCDateTime(\"2010-10-10T06\")\n",
    "st=client.get_waveforms(\"*\", \"TNGA\", \"*\", \"*\", start, end)\n",
    "st.write(\"/mnt/home/xiziyi/Packages_Research/PhaseNet-TF/workplace/2long.mseed\", format=\"MSEED\")"
   ]
  },
  {
   "cell_type": "code",
   "execution_count": 4,
   "metadata": {},
   "outputs": [
    {
     "name": "stderr",
     "output_type": "stream",
     "text": [
      "/mnt/gs21/scratch/xiziyi/venvs/pypoetry/virtualenvs/phasenet-tf-1tdtwdnf-py3.9/lib/python3.9/site-packages/obspy/clients/filesystem/tsindex.py:1672: SAWarning: SELECT statement has a cartesian product between FROM element(s) \"raw_request_cte\" and FROM element \"flattened_request_cte\".  Apply join condition(s) between each element to resolve.\n",
      "  for rt in result:\n"
     ]
    }
   ],
   "source": [
    "start=UTCDateTime(\"2010-02-19T19:57:20.130580\")-10\n",
    "end=UTCDateTime(\"2010-02-19T19:57:20.130580\")+110\n",
    "st=client.get_waveforms(\"*\", \"A01\", \"*\", \"*\", start, end)\n",
    "st.write(\"/mnt/home/xiziyi/Packages_Research/PhaseNet-TF/workplace/3short.mseed\", format=\"MSEED\")\n",
    "\n",
    "start=UTCDateTime(\"2010-02-19T19\")\n",
    "end=UTCDateTime(\"2010-02-19T20\")\n",
    "st=client.get_waveforms(\"*\", \"A01\", \"*\", \"*\", start, end)\n",
    "st.write(\"/mnt/home/xiziyi/Packages_Research/PhaseNet-TF/workplace/3long.mseed\", format=\"MSEED\")"
   ]
  },
  {
   "cell_type": "code",
   "execution_count": 6,
   "metadata": {},
   "outputs": [],
   "source": [
    "start=UTCDateTime(\"2010-05-13T02:47:56.932080\")-10\n",
    "end=UTCDateTime(\"2010-05-13T02:47:56.932080\")+110\n",
    "st=client.get_waveforms(\"*\", \"A06W\", \"*\", \"*\", start, end)\n",
    "st.write(\"/mnt/home/xiziyi/Packages_Research/PhaseNet-TF/workplace/4short.mseed\", format=\"MSEED\")\n",
    "\n",
    "start=UTCDateTime(\"2010-05-13T02\")\n",
    "end=UTCDateTime(\"2010-05-13T03\")\n",
    "st=client.get_waveforms(\"*\", \"A06W\", \"*\", \"*\", start, end)\n",
    "st.write(\"/mnt/home/xiziyi/Packages_Research/PhaseNet-TF/workplace/4long.mseed\", format=\"MSEED\")"
   ]
  },
  {
   "cell_type": "code",
   "execution_count": null,
   "metadata": {},
   "outputs": [],
   "source": []
  }
 ],
 "metadata": {
  "kernelspec": {
   "display_name": "phasenet-tf-1tdtwdnf-py3.9",
   "language": "python",
   "name": "python3"
  },
  "language_info": {
   "codemirror_mode": {
    "name": "ipython",
    "version": 3
   },
   "file_extension": ".py",
   "mimetype": "text/x-python",
   "name": "python",
   "nbconvert_exporter": "python",
   "pygments_lexer": "ipython3",
   "version": "3.9.7"
  },
  "orig_nbformat": 4
 },
 "nbformat": 4,
 "nbformat_minor": 2
}
